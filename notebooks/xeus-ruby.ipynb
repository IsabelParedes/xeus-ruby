{
 "cells": [
  {
   "cell_type": "markdown",
   "metadata": {},
   "source": [
    "<center>\n",
    "    <h1>Ruby kernel based on Xeus</h1>\n",
    "</center>"
   ]
  },
  {
   "cell_type": "markdown",
   "metadata": {},
   "source": [
    "## Hello, Ruby!"
   ]
  },
  {
   "cell_type": "code",
   "execution_count": null,
   "metadata": {},
   "outputs": [],
   "source": [
    "puts \"Hello, world!\""
   ]
  },
  {
   "cell_type": "markdown",
   "metadata": {},
   "source": [
    "## Variables"
   ]
  },
  {
   "cell_type": "code",
   "execution_count": null,
   "metadata": {},
   "outputs": [],
   "source": [
    "# Integer\n",
    "age = 30\n",
    "\n",
    "# Float\n",
    "temperature = 25.5\n",
    "\n",
    "# String\n",
    "name = \"Esmeralda\"\n",
    "\n",
    "# Symbol\n",
    "status = :active\n",
    "\n",
    "# Boolean\n",
    "is_student = true\n",
    "\n",
    "# Array\n",
    "fruits = [\"apple\", \"banana\", \"orange\"]\n",
    "\n",
    "# Hash\n",
    "person = { name: \"Bob\", age: 25, city: \"New York\" }\n",
    "\n",
    "# Nil\n",
    "address = nil\n",
    "\n",
    "puts \"#{name} is #{age} years old and eats a #{fruits[1]}\"\n",
    "puts person.instance_of? Hash"
   ]
  },
  {
   "cell_type": "markdown",
   "metadata": {},
   "source": [
    "## Variable Scope"
   ]
  },
  {
   "cell_type": "code",
   "execution_count": null,
   "metadata": {},
   "outputs": [],
   "source": [
    "# Global variable\n",
    "$global_variable = \"I am a global variable\"\n",
    "\n",
    "# Class definition\n",
    "class MyClass\n",
    "  # Class variable\n",
    "  @@class_variable = \"I am a class variable\"\n",
    "\n",
    "  def initialize\n",
    "    # Instance variable\n",
    "    @instance_variable = \"I am an instance variable\"\n",
    "  end\n",
    "\n",
    "  def my_method\n",
    "    # Local variable\n",
    "    local_variable = \"I am a local variable\"\n",
    "\n",
    "    puts \"Inside my_method:\"\n",
    "    puts \"  Global variable: #{$global_variable}\"\n",
    "    puts \"  Class variable: #{@@class_variable}\"\n",
    "    puts \"  Instance variable: #{@instance_variable}\"\n",
    "    puts \"  Local variable: #{local_variable}\"\n",
    "  end\n",
    "end\n",
    "\n",
    "# Constant\n",
    "MY_CONSTANT = \"I am a constant\"\n",
    "\n",
    "# Creating an instance of MyClass\n",
    "obj = MyClass.new\n",
    "\n",
    "# Calling my_method\n",
    "obj.my_method\n",
    "\n",
    "puts \"Outside MyClass:\"\n",
    "puts \"  Global variable: #{$global_variable}\"\n",
    "puts \"  Class variable: #{MyClass.class_variable_get(:@@class_variable)}\"\n",
    "puts \"  Constant: #{MY_CONSTANT}\""
   ]
  },
  {
   "cell_type": "markdown",
   "metadata": {},
   "source": [
    "## Loops"
   ]
  },
  {
   "cell_type": "code",
   "execution_count": null,
   "metadata": {},
   "outputs": [],
   "source": [
    "# Initialize a counter\n",
    "i = 0\n",
    "\n",
    "# while loop\n",
    "while i < 5 do\n",
    "    puts \"Iteration #{i}\"\n",
    "    i += 1\n",
    "    sleep 0.5\n",
    "end\n"
   ]
  },
  {
   "cell_type": "code",
   "execution_count": null,
   "metadata": {},
   "outputs": [],
   "source": [
    "# Initialize a counter\n",
    "i = 0\n",
    "\n",
    "# until loop\n",
    "until i >= 5 do\n",
    "    puts \"Iteration #{i}\"\n",
    "    i += 1\n",
    "    sleep 0.3\n",
    "end\n"
   ]
  },
  {
   "cell_type": "code",
   "execution_count": null,
   "metadata": {},
   "outputs": [],
   "source": [
    "# for loop\n",
    "for i in 0..4 do\n",
    "    puts \"Iteration #{i}\"\n",
    "    sleep 0.8\n",
    "end"
   ]
  },
  {
   "cell_type": "code",
   "execution_count": null,
   "metadata": {},
   "outputs": [],
   "source": [
    "# each iterator\n",
    "(0..4).each do |i|\n",
    "    puts \"Iteration #{i}\"\n",
    "    sleep 0.2\n",
    "end"
   ]
  },
  {
   "cell_type": "markdown",
   "metadata": {},
   "source": [
    "## Functions"
   ]
  },
  {
   "cell_type": "code",
   "execution_count": null,
   "metadata": {},
   "outputs": [],
   "source": [
    "def fibonacci(n)\n",
    "  fib_sequence = [0, 1]  # Initialize Fibonacci sequence with first two numbers\n",
    "\n",
    "  # Calculate Fibonacci numbers iteratively\n",
    "  (2..n).each do |i|\n",
    "    fib_sequence[i] = fib_sequence[i - 1] + fib_sequence[i - 2]\n",
    "  end\n",
    "\n",
    "  return fib_sequence[0..n]\n",
    "end\n",
    "\n",
    "# Print Fibonacci sequence up to the 10th number\n",
    "puts fibonacci(10).join(\", \")"
   ]
  },
  {
   "cell_type": "code",
   "execution_count": null,
   "metadata": {},
   "outputs": [],
   "source": [
    "def guess_the_number\n",
    "    puts \"Welcome to Guess the Number!\\n\\n\"\n",
    "    secret_number = rand(1..100)\n",
    "    attempts = 0\n",
    "\n",
    "    min_guess = 0\n",
    "    max_guess = 100\n",
    "    guess = rand(1..100)\n",
    "\n",
    "    loop do\n",
    "        print \"Guess the number (1-100): \"\n",
    "        sleep 0.5\n",
    "        puts guess\n",
    "        sleep 0.5\n",
    "        attempts += 1\n",
    "        \n",
    "        if guess == secret_number\n",
    "            puts \"\\nCongratulations! You guessed the number in #{attempts} attempts.\"\n",
    "            break\n",
    "        elsif guess < secret_number\n",
    "            puts \"\\tToo low! Try again.\"\n",
    "            min_guess = guess\n",
    "        else\n",
    "            puts \"\\tToo high! Try again.\"\n",
    "            max_guess = guess\n",
    "        end\n",
    "\n",
    "        guess = rand(min_guess..max_guess)\n",
    "    end\n",
    "end\n",
    "\n",
    "guess_the_number"
   ]
  }
 ],
 "metadata": {
  "kernelspec": {
   "display_name": "ruby 3.2.2 (xruby)",
   "language": "ruby",
   "name": "xruby"
  },
  "language_info": {
   "codemirror_mode": "",
   "file_extension": "rb",
   "mimetype": "text/x-ruby",
   "name": "ruby",
   "nbconvert_exporter": "",
   "pygments_lexer": "",
   "version": "3.2.2"
  }
 },
 "nbformat": 4,
 "nbformat_minor": 4
}
